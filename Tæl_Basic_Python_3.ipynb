{
 "cells": [
  {
   "cell_type": "markdown",
   "metadata": {},
   "source": [
    "# Definér en funktion\n",
    "***\n",
    "***\n",
    "Keywords: `definition`, `funktion`\n",
    "\n",
    "Nye Python-udtryk: `def`, `return`\n",
    "***\n",
    "***\n"
   ]
  },
  {
   "cell_type": "markdown",
   "metadata": {},
   "source": [
    "At **definere** en **funktion** vil sige at pakke en eller flere kodesekvenser sammen under ét navn, så det kan let kan anvendes, gemmes og genbruges. I kan tænke på det som en funktionel pedant til variabler. Vi kan gemme komplekse datastrukterer under et simpelt vaiabelnavn. På samme måde kan vi gemme kompleks funktionalitet under et simpelt funktionsnavn. Fordelen ved funktioner er, dels at man let kan genbruge funktionalitet, dels at det er lettere at finde fejl, idet man ikke behøver at tjekke al kode, men blot koden i den funktion, der fremprovokerer fejlen.\n",
    "\n",
    "Definitioner består af tre dele: 1) Definitionskommandoen, 2) en kodeblok, 3) et `return`-kommando.\n",
    "\n",
    "**Definitionskommandoen** består kommandoen `def`, et `funktionsnavn` samt en eller flere pladsholdere for `argumenter`. Udtrykket `def` fortæller Python, at den efterfølgende kodeblok skal gemmes under det `funktionsnavn`, der specificeres. Funktionsnavnet er valgfrit. Når funktionen efterfølgende skal bruges, kalder (call into action) man funktionen med kommandoen `funktionsnavn()`. En funktion kan have en række `parametre`, dvs. tage inputs, hvis værdier påvirker outputtet. De konkrete værdier, der indsættes i funktionen kaldes `argumenter` og specificeres i parentesen umiddelbart efter funktionsnavnet. Husk at afslutte definitionskommandoen med `:`.\n",
    "\n",
    "Syntaksen ser således ud: `def funktion(argument_1, argument_2, argument_x):`\n",
    "\n",
    "**Kodeblokken** består af de kodelinjer, man ønsker at gemme under det angivene `funktionsnavn`. Kodeblokken indenteres (indrykkes med fire blanktegn) på linjen under definitionskommandoen.\n",
    "\n",
    "**Return-kommandoen** angiver hvilket output, funktionen skal returnere. Hvis intet specificeres er return-typen **NONE**. Funktionen returnerer det, der specificeres efter udtrykket `return`.\n",
    "\n"
   ]
  },
  {
   "cell_type": "markdown",
   "metadata": {},
   "source": [
    "***\n",
    "***\n",
    "## Opgave 1\n",
    "***\n",
    "***\n",
    "I eksemplet nedenfor defineres en lille simpel funktion. Funktionen får navnet `printStreng`. Når funktionen anvendes indtasten en værdi i parentesen. Fordi kodeblokken indeholder et `print()`-statement, skal inputtet vær af typen `string`. Inputtet gives automatisk det variabelnavn, der i definitionskommandoen specificeres i parentesen - i dette tilfælde navnet 'streng'. Kodeblokken indeholder et for-loop, der looper over elementerne i inputtet, dvs. bogstaverne i den `string`, som funktionen anvendes på. For hvert eklement i inputtet (for hvert bogstav i strengen) printes dette element. \n",
    "\n",
    "Prøv at afvikle koden nedenfor."
   ]
  },
  {
   "cell_type": "code",
   "execution_count": null,
   "metadata": {},
   "outputs": [],
   "source": [
    "def printStreng(streng):\n",
    "    for b in streng:\n",
    "        print(b)     "
   ]
  },
  {
   "cell_type": "markdown",
   "metadata": {},
   "source": [
    "I første omgang sker der ikke noget, men funktionen er nu gemt.\n",
    "\n",
    "Kan I regne ud, hvad outputtet bliver, når i anvender funktionen nedenfor?"
   ]
  },
  {
   "cell_type": "code",
   "execution_count": null,
   "metadata": {},
   "outputs": [],
   "source": [
    "printStreng(\"Der var en gang\")"
   ]
  },
  {
   "cell_type": "markdown",
   "metadata": {},
   "source": [
    "Funktioner kan naturligvis også anvendes på variabelnavne."
   ]
  },
  {
   "cell_type": "code",
   "execution_count": null,
   "metadata": {},
   "outputs": [],
   "source": [
    "eksempel = \"Der var en gang\"\n",
    "printStreng(eksempel)\n"
   ]
  },
  {
   "cell_type": "markdown",
   "metadata": {},
   "source": [
    "Hvis man vil anvende denne funktion på et input, der ikke er en `string`. kan man anvende `str()`-funktionen:"
   ]
  },
  {
   "cell_type": "code",
   "execution_count": null,
   "metadata": {},
   "outputs": [],
   "source": [
    "printStreng(str(117))"
   ]
  },
  {
   "cell_type": "markdown",
   "metadata": {},
   "source": [
    "Funktionen `printStreng()` har **ikke** fået specificeret et `return`-output. Det er ikke nødvendigt, for den indeholder en anden funktion, nemlig `print()`, der giver et output. Hvis der ikke specificeres et `return`-output er returnværdien per defalt **NONE**. Dette kan I tjekke ved at afvikle koden nedenfor:"
   ]
  },
  {
   "cell_type": "code",
   "execution_count": null,
   "metadata": {},
   "outputs": [],
   "source": [
    "type(printStreng(\"Der var en gang\"))"
   ]
  },
  {
   "cell_type": "markdown",
   "metadata": {},
   "source": [
    "I eksemplet nedenfor finder i endnu et eksempel på definition af en meget simpel funktion ' den gang med `return`-statement."
   ]
  },
  {
   "cell_type": "code",
   "execution_count": null,
   "metadata": {},
   "outputs": [],
   "source": [
    "def plus(a, b):\n",
    "    return a + b"
   ]
  },
  {
   "cell_type": "markdown",
   "metadata": {},
   "source": [
    "Overvej hvad outputtet af denne funktion er, inden I afprøver sekvensen nedenfor."
   ]
  },
  {
   "cell_type": "code",
   "execution_count": null,
   "metadata": {},
   "outputs": [],
   "source": [
    "sum = plus(117, 127)\n",
    "print(sum)\n",
    "type(sum)"
   ]
  },
  {
   "cell_type": "markdown",
   "metadata": {},
   "source": [
    "***\n",
    "***\n",
    "## Opgave 2\n",
    "***\n",
    "***\n",
    "Sidst arbejdede vi med at udvikle en pipeline, der kunne hjælpe os med systematisk at rense og tokenize vores tekster. I det følgende skal vi prøve at gemme noget af denne funktionalitet i en funktion, så det kan genbruges. I kan se skridtene nedenfor.\n",
    "\n",
    "Jeg vil anbefale, at I undlader at tilføje del 1 og del 6 til funktionen. Diskutér **hvorfor** er det en god idé.\n",
    "\n",
    "\n",
    "#### 1. Open and read ####\n",
    "tekst = open(\"filnavn.txt\", encoding=\"utf8\")<br>\n",
    "mfTekst_0 = tekst.read()\n",
    "\n",
    "#### 2. Delete line breaks ####\n",
    "mfTekst_1 = mfTekst_0.replace(\"\\n\",\" \")\n",
    "\n",
    "#### 3. Delete noise ####\n",
    "mfTekst_2 = mfTekst_1.replace(\".\",\" \")<br>\n",
    "mfTekst_3 = mfTekst_2.replace(\",\",\" \")<br>\n",
    "mfTekst_4 = mfTekst_3.replace(\":\",\" \")<br>\n",
    "mfTekst_5 = mfTekst_4.replace(\"*\",\" \")<br>\n",
    "mfTekst_6 = mfTekst_5.replace(\"–\",\" \")<br>\n",
    "mfTekst_7 = mfTekst_6.replace(\"'\",\" \")<br>\n",
    "mfTekst_ren = mfTekst_7.replace(\"”\",\" \")\n",
    "\n",
    "#### 4. Convert all text to lower case ####\n",
    "mfTekst_lav = mfTekst_ren.lower()\n",
    "\n",
    "#### 5. Tokenize ####\n",
    "mfTekst_token = mfTekst_lav.split()\n",
    "\n",
    "#### 6. Inspect vaiable ####\n",
    "print(len(mfTekst_token))<br>\n",
    "mfTekst_token\n",
    "\n",
    "\n",
    "Prøv at definere funktionen i feltet nedenfor. I kan se et løsningsforslag i bunden af dette dokument, men **prøv selv** inden I tjekker mit forslag!"
   ]
  },
  {
   "cell_type": "code",
   "execution_count": null,
   "metadata": {},
   "outputs": [],
   "source": []
  },
  {
   "cell_type": "markdown",
   "metadata": {},
   "source": [
    "\n",
    "<br>\n",
    "<br>\n",
    "<br>\n",
    "<br>\n",
    "<br>\n",
    "<br>\n",
    "<br>\n",
    "<br>\n",
    "<br>\n",
    "<br>\n",
    "<br>\n",
    "<br>\n",
    "<br>\n",
    "<br>\n",
    "<br>\n",
    "<br>\n",
    "<br>\n",
    "<br>\n",
    "<br>\n",
    "<br>\n",
    "\n",
    "\n",
    "\n",
    "\n",
    "\n",
    "***\n",
    "***\n",
    "## Løsningsforslag\n",
    "***\n",
    "***"
   ]
  },
  {
   "cell_type": "code",
   "execution_count": null,
   "metadata": {},
   "outputs": [],
   "source": [
    "def rens(text_0):\n",
    "    text_1 = text_0.replace(\"\\n\",\" \")\n",
    "    text_2 = text_1.replace(\".\",\" \")\n",
    "    text_3 = text_2.replace(\",\",\" \")\n",
    "    text_4 = text_3.replace(\":\",\" \")\n",
    "    text_5 = text_4.replace(\"*\",\" \")\n",
    "    text_6 = text_5.replace(\"–\",\" \")\n",
    "    text_7 = text_6.replace(\"'\",\" \")\n",
    "    text_ren = text_7.replace(\"”\",\" \")\n",
    "    text_lav = text_ren.lower()\n",
    "    text_token = text_lav.split()\n",
    "    return text_token"
   ]
  },
  {
   "cell_type": "markdown",
   "metadata": {},
   "source": [
    "Afprøv funktionen ved at afvikle koden nedenfor.\n",
    "\n",
    "Hvilke output kan vi forvente, hvis vi anvender funktionen på eksemplet variablen 'a'?"
   ]
  },
  {
   "cell_type": "code",
   "execution_count": null,
   "metadata": {},
   "outputs": [],
   "source": [
    "a = [\"Der var en gang\",\"og for enden af den gang var der en dør\",\"og bag den dør var der en gang\"]"
   ]
  },
  {
   "cell_type": "code",
   "execution_count": null,
   "metadata": {},
   "outputs": [],
   "source": [
    "b = [] # laver en ny tom liste\n",
    "c = []\n",
    "for t in a: # looper over elementer i listen gemt under navnet 'a'\n",
    "    b.append(rens(t)) # anvender rens() på alle elementerne i a vha. et for-loop og tilføjer outputtet til liste 'b' \n",
    "    c.append(len(rens(t))) # måler længden af elementerne på listen og tilføjer outputtet til liste 'c'\n",
    "print(b)\n",
    "print(c)\n"
   ]
  },
  {
   "cell_type": "code",
   "execution_count": null,
   "metadata": {},
   "outputs": [],
   "source": []
  }
 ],
 "metadata": {
  "kernelspec": {
   "display_name": "Python 3",
   "language": "python",
   "name": "python3"
  },
  "language_info": {
   "codemirror_mode": {
    "name": "ipython",
    "version": 3
   },
   "file_extension": ".py",
   "mimetype": "text/x-python",
   "name": "python",
   "nbconvert_exporter": "python",
   "pygments_lexer": "ipython3",
   "version": "3.8.3"
  }
 },
 "nbformat": 4,
 "nbformat_minor": 4
}
